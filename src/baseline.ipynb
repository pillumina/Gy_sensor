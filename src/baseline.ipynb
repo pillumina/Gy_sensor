{
 "cells": [
  {
   "cell_type": "markdown",
   "metadata": {},
   "source": [
    "# Simple Baseline Algorithm"
   ]
  },
  {
   "cell_type": "code",
   "execution_count": 1,
   "metadata": {},
   "outputs": [],
   "source": [
    "%matplotlib inline\n",
    "import numpy as np\n",
    "import pandas as pd\n",
    "from sklearn.kernel_approximation import RBFSampler\n",
    "\n",
    "import seaborn as sns\n",
    "import matplotlib.pyplot as plt\n",
    "sns.set(style=\"white\", palette=\"muted\", color_codes=True)\n",
    "\n",
    "np.random.seed(seed=123456) "
   ]
  },
  {
   "cell_type": "code",
   "execution_count": 11,
   "metadata": {},
   "outputs": [],
   "source": [
    "def map_loc(loc):\n",
    "    # map the person location to location 3x3 matrix\n",
    "    pos = [[loc+i*8-1, loc+i*8, loc+i*8+1] for i in [-1,0,1]]\n",
    "    return pos[0]+pos[1]+pos[2]\n",
    "\n",
    "def simulate_data_stream(person_infor):\n",
    "    \"\"\"simulate data with two person occupancy\n",
    "    \"\"\"\n",
    "    data = pd.DataFrame(np.random.normal(20, .5, (400, 64)), columns=[''.join(['L_', str(i)]) for i in range(64)])\n",
    "    for key in list(person_infor.keys()):\n",
    "        person = person_infor[key]\n",
    "        for loc in map_loc(person['loc']):\n",
    "            if loc != person['loc']:\n",
    "                data.iloc[person['time'][0]:person['time'][1], loc] += person['temp'] * person['corr']\n",
    "            else:\n",
    "                data.iloc[person['time'][0]:person['time'][1], loc] += person['temp']\n",
    "    return data\n",
    "\n",
    "def figure_plt(data, time, print_mat=False):\n",
    "    mat = data.iloc[time,:].values.reshape(8,8)\n",
    "    plt.figure()\n",
    "    ax = plt.gca()\n",
    "    plt.imshow(mat, cmap='RdBu')\n",
    "    plt.colorbar(extend='both')\n",
    "    ax.grid(which='minor', axis='both', color='k', linewidth=2)\n",
    "    plt.clim(17, 29)\n",
    "    if print_mat:\n",
    "        print(mat)\n",
    "\n",
    "def time_series_plt(data, time):\n",
    "    plt.figure(figsize=(8,4))\n",
    "    plt.plot(range(data.shape[0]), data.iloc[:,18])\n",
    "    plt.ylabel('Temperature')\n",
    "    plt.xlabel('Time')"
   ]
  },
  {
   "cell_type": "code",
   "execution_count": 12,
   "metadata": {},
   "outputs": [],
   "source": [
    "class EXPoSE(object):\n",
    "    \"\"\" Implementation of The EXPoSE (EXPected Similarity Estimation) algorithm \n",
    "    proposed by M. Schneider, W. Ertel and F. Ramos, \"Expected Similarity \n",
    "    Estimation for Lage-Scale Batch and Streaming Anomaly Detection\".\n",
    "    \"\"\"\n",
    "    def __init__(self, decay_rate=.01, time_step=0,\n",
    "                 headers=[\"time\", \"value\", \"anomaly_score\"]):\n",
    "        self.decay_rate = decay_rate\n",
    "        self.time_step = time_step\n",
    "        self.headers = headers\n",
    "        self.kernel = None\n",
    "        self.historical_model = []\n",
    "    \n",
    "    def set_kernel(self, gamma=.5, n_components=500, random_state=10):\n",
    "        #n_components=20000\n",
    "        \"\"\" Setup RBF sampler for the detector\"\"\"\n",
    "        self.kernel = RBFSampler(gamma=gamma, n_components=n_components, random_state=random_state)\n",
    "    \n",
    "#     def run_offline(self, data):\n",
    "#         \"\"\" Run offline with batch data\n",
    "#         \"\"\"\n",
    "#         rows = []\n",
    "#         for i, row in data.iterrows():\n",
    "#             input_data = row.to_dict()\n",
    "#             detector_values = self.analyze(input_data)\n",
    "#             output_row = list(row) + list(detector_values)\n",
    "#             rows.append(output_row)\n",
    "#         results = pd.DataFrame(rows, columns=self.headers)\n",
    "#         return results\n",
    "    \n",
    "    def initialize(self, data):\n",
    "        \"\"\" setup reference data withouth occupancy\n",
    "        \"\"\"\n",
    "        return self.analyze(data)\n",
    "    \n",
    "    def analyze(self, input_data):\n",
    "        \"\"\" Returns anomalyScore list \"\"\"\n",
    "        # approximate feature map of a RBF kernel by using Random Kitchen \n",
    "        # Sinks approximation\n",
    "        feature = self.kernel.fit_transform(np.array([[input_data]]))\n",
    "        # calculate model as a weighted sum of new data point's feature\n",
    "        # map and previous data points' kernel embedding\n",
    "        if self.time_step == 0:\n",
    "            model = feature\n",
    "            self.time_step += 1\n",
    "        else:\n",
    "            model = ((self.decay_rate * feature) + (1 - self.decay_rate) *\n",
    "                     self.historical_model)\n",
    "        # Update previous expose model\n",
    "        self.historical_model = model\n",
    "        # Caculate similarity measure\n",
    "        anomaly_score = np.asscalar(1 - np.inner(feature, model))\n",
    "\n",
    "        return anomaly_score"
   ]
  },
  {
   "cell_type": "code",
   "execution_count": 35,
   "metadata": {},
   "outputs": [],
   "source": [
    "class Detector(object):\n",
    "    \"\"\" detector for streaming frame\n",
    "    \"\"\"\n",
    "    def __init__(self, th=.8, diff=.3):\n",
    "        self.th = th\n",
    "        self.diff = diff\n",
    "        # map to store the occupancy status\n",
    "        self.map = np.zeros(64)\n",
    "        # buffer to store the previous 3 scores\n",
    "        self.scores = np.zeros((3,64))\n",
    "        self.detector = [EXPoSE() for i in range(64)]\n",
    "\n",
    "    def set_ref(self, ref_dat):\n",
    "        for j, ref_snapshoot in enumerate(ref_dat):\n",
    "            for i, x in enumerate(ref_snapshoot):\n",
    "                if j == 0:\n",
    "                    self.detector[i].set_kernel()\n",
    "                self.scores[j, i] = np.array(self.detector[i].initialize(x))\n",
    "        \n",
    "    def run_online(self, input_dat):\n",
    "        historical_scores = self.scores[1:, :]\n",
    "        for i, x in enumerate(input_dat):\n",
    "            self.scores[-1, i] = np.array(self.detector[i].analyze(x))\n",
    "        self.scores[:2, :] = historical_scores\n",
    "        self.find_temporal_change()\n",
    "    \n",
    "    def find_temporal_change(self):\n",
    "        summary = np.mean(self.scores, axis=0)\n",
    "        occupied_idx = np.where(self.map == 1)[0]\n",
    "        idx = np.where(summary >= self.th)[0]\n",
    "        for i in idx:\n",
    "            self.map[i] = 1\n",
    "        # check if non-occupancy\n",
    "        if len(occupied_idx) == 0:\n",
    "            for j in occupied_idx:\n",
    "                if self.scores[-1, j] - self.scores[1, j] >= self.diff:\n",
    "                    self.map[j] = 0\n",
    "            "
   ]
  },
  {
   "cell_type": "markdown",
   "metadata": {},
   "source": [
    "generate sample data"
   ]
  },
  {
   "cell_type": "code",
   "execution_count": 36,
   "metadata": {},
   "outputs": [],
   "source": [
    "person_infor = {'person_1':{'loc':18, 'temp':5, 'corr': .8, 'time':[200, 250]},\n",
    "                'person_2':{'loc':46, 'temp':4, 'corr': .8, 'time':[200, 250]}}\n",
    "data = simulate_data_stream(person_infor)\n",
    "# first 3 rows are considered training data\n",
    "train = [data.iloc[i,:].values.tolist() for i in range(3)]"
   ]
  },
  {
   "cell_type": "code",
   "execution_count": 37,
   "metadata": {},
   "outputs": [
    {
     "data": {
      "text/html": [
       "<div>\n",
       "<style>\n",
       "    .dataframe thead tr:only-child th {\n",
       "        text-align: right;\n",
       "    }\n",
       "\n",
       "    .dataframe thead th {\n",
       "        text-align: left;\n",
       "    }\n",
       "\n",
       "    .dataframe tbody tr th {\n",
       "        vertical-align: top;\n",
       "    }\n",
       "</style>\n",
       "<table border=\"1\" class=\"dataframe\">\n",
       "  <thead>\n",
       "    <tr style=\"text-align: right;\">\n",
       "      <th></th>\n",
       "      <th>L_0</th>\n",
       "      <th>L_1</th>\n",
       "      <th>L_2</th>\n",
       "      <th>L_3</th>\n",
       "      <th>L_4</th>\n",
       "      <th>L_5</th>\n",
       "      <th>L_6</th>\n",
       "      <th>L_7</th>\n",
       "      <th>L_8</th>\n",
       "      <th>L_9</th>\n",
       "      <th>...</th>\n",
       "      <th>L_54</th>\n",
       "      <th>L_55</th>\n",
       "      <th>L_56</th>\n",
       "      <th>L_57</th>\n",
       "      <th>L_58</th>\n",
       "      <th>L_59</th>\n",
       "      <th>L_60</th>\n",
       "      <th>L_61</th>\n",
       "      <th>L_62</th>\n",
       "      <th>L_63</th>\n",
       "    </tr>\n",
       "  </thead>\n",
       "  <tbody>\n",
       "    <tr>\n",
       "      <th>0</th>\n",
       "      <td>19.372085</td>\n",
       "      <td>19.245103</td>\n",
       "      <td>19.603039</td>\n",
       "      <td>19.592699</td>\n",
       "      <td>20.556455</td>\n",
       "      <td>20.223049</td>\n",
       "      <td>20.388944</td>\n",
       "      <td>19.790181</td>\n",
       "      <td>20.376175</td>\n",
       "      <td>20.302428</td>\n",
       "      <td>...</td>\n",
       "      <td>19.530174</td>\n",
       "      <td>19.653352</td>\n",
       "      <td>20.029602</td>\n",
       "      <td>19.970195</td>\n",
       "      <td>19.335456</td>\n",
       "      <td>19.862935</td>\n",
       "      <td>19.962422</td>\n",
       "      <td>20.125697</td>\n",
       "      <td>20.135209</td>\n",
       "      <td>19.924888</td>\n",
       "    </tr>\n",
       "    <tr>\n",
       "      <th>1</th>\n",
       "      <td>20.030936</td>\n",
       "      <td>20.480408</td>\n",
       "      <td>19.834483</td>\n",
       "      <td>20.441529</td>\n",
       "      <td>20.126034</td>\n",
       "      <td>20.080820</td>\n",
       "      <td>19.705797</td>\n",
       "      <td>19.815511</td>\n",
       "      <td>20.207486</td>\n",
       "      <td>20.171041</td>\n",
       "      <td>...</td>\n",
       "      <td>20.555559</td>\n",
       "      <td>19.787147</td>\n",
       "      <td>19.836377</td>\n",
       "      <td>19.928163</td>\n",
       "      <td>19.526569</td>\n",
       "      <td>20.233000</td>\n",
       "      <td>19.967460</td>\n",
       "      <td>20.060793</td>\n",
       "      <td>19.846960</td>\n",
       "      <td>20.066221</td>\n",
       "    </tr>\n",
       "    <tr>\n",
       "      <th>2</th>\n",
       "      <td>19.943469</td>\n",
       "      <td>20.048656</td>\n",
       "      <td>20.840355</td>\n",
       "      <td>20.163353</td>\n",
       "      <td>19.812887</td>\n",
       "      <td>20.045584</td>\n",
       "      <td>19.687495</td>\n",
       "      <td>19.671188</td>\n",
       "      <td>19.531047</td>\n",
       "      <td>20.603140</td>\n",
       "      <td>...</td>\n",
       "      <td>20.526006</td>\n",
       "      <td>21.349575</td>\n",
       "      <td>19.956864</td>\n",
       "      <td>20.057066</td>\n",
       "      <td>20.272479</td>\n",
       "      <td>20.329221</td>\n",
       "      <td>20.599574</td>\n",
       "      <td>19.234553</td>\n",
       "      <td>21.245473</td>\n",
       "      <td>19.637343</td>\n",
       "    </tr>\n",
       "  </tbody>\n",
       "</table>\n",
       "<p>3 rows × 64 columns</p>\n",
       "</div>"
      ],
      "text/plain": [
       "         L_0        L_1        L_2        L_3        L_4        L_5  \\\n",
       "0  19.372085  19.245103  19.603039  19.592699  20.556455  20.223049   \n",
       "1  20.030936  20.480408  19.834483  20.441529  20.126034  20.080820   \n",
       "2  19.943469  20.048656  20.840355  20.163353  19.812887  20.045584   \n",
       "\n",
       "         L_6        L_7        L_8        L_9    ...           L_54  \\\n",
       "0  20.388944  19.790181  20.376175  20.302428    ...      19.530174   \n",
       "1  19.705797  19.815511  20.207486  20.171041    ...      20.555559   \n",
       "2  19.687495  19.671188  19.531047  20.603140    ...      20.526006   \n",
       "\n",
       "        L_55       L_56       L_57       L_58       L_59       L_60  \\\n",
       "0  19.653352  20.029602  19.970195  19.335456  19.862935  19.962422   \n",
       "1  19.787147  19.836377  19.928163  19.526569  20.233000  19.967460   \n",
       "2  21.349575  19.956864  20.057066  20.272479  20.329221  20.599574   \n",
       "\n",
       "        L_61       L_62       L_63  \n",
       "0  20.125697  20.135209  19.924888  \n",
       "1  20.060793  19.846960  20.066221  \n",
       "2  19.234553  21.245473  19.637343  \n",
       "\n",
       "[3 rows x 64 columns]"
      ]
     },
     "execution_count": 37,
     "metadata": {},
     "output_type": "execute_result"
    }
   ],
   "source": [
    "data.head(3)"
   ]
  },
  {
   "cell_type": "markdown",
   "metadata": {},
   "source": [
    "signal without occupancy"
   ]
  },
  {
   "cell_type": "code",
   "execution_count": 38,
   "metadata": {},
   "outputs": [
    {
     "data": {
      "image/png": "[encoded data removed]",
      "text/plain": [
       "<Figure size 432x288 with 2 Axes>"
      ]
     },
     "metadata": {},
     "output_type": "display_data"
    }
   ],
   "source": [
    "figure_plt(data, 10, False)"
   ]
  },
  {
   "cell_type": "markdown",
   "metadata": {},
   "source": [
    "Signal with occupancy: two perons"
   ]
  },
  {
   "cell_type": "code",
   "execution_count": 39,
   "metadata": {},
   "outputs": [
    {
     "data": {
      "image/png": "[encoded data removed]",
      "text/plain": [
       "<Figure size 432x288 with 2 Axes>"
      ]
     },
     "metadata": {},
     "output_type": "display_data"
    }
   ],
   "source": [
    "figure_plt(data, 200, False)"
   ]
  },
  {
   "cell_type": "markdown",
   "metadata": {},
   "source": [
    "plot time series at position 18"
   ]
  },
  {
   "cell_type": "code",
   "execution_count": 40,
   "metadata": {},
   "outputs": [
    {
     "data": {
      "image/png": "[encoded data removed]",
      "text/plain": [
       "<Figure size 576x288 with 1 Axes>"
      ]
     },
     "metadata": {},
     "output_type": "display_data"
    }
   ],
   "source": [
    "time_series_plt(data, 18)"
   ]
  },
  {
   "cell_type": "code",
   "execution_count": 41,
   "metadata": {},
   "outputs": [],
   "source": [
    "detector = Detector()\n",
    "detector.set_ref(train)"
   ]
  },
  {
   "cell_type": "code",
   "execution_count": 42,
   "metadata": {},
   "outputs": [
    {
     "data": {
      "text/plain": [
       "array([0., 0., 0., 0., 0., 0., 0., 0., 0., 0., 0., 0., 0., 0., 0., 0., 0.,\n",
       "       0., 0., 0., 0., 0., 0., 0., 0., 0., 0., 0., 0., 0., 0., 0., 0., 0.,\n",
       "       0., 0., 0., 0., 0., 0., 0., 0., 0., 0., 0., 0., 0., 0., 0., 0., 0.,\n",
       "       0., 0., 0., 0., 0., 0., 0., 0., 0., 0., 0., 0., 0.])"
      ]
     },
     "execution_count": 42,
     "metadata": {},
     "output_type": "execute_result"
    }
   ],
   "source": [
    "detector.map"
   ]
  },
  {
   "cell_type": "code",
   "execution_count": 44,
   "metadata": {},
   "outputs": [
    {
     "name": "stdout",
     "output_type": "stream",
     "text": [
      "The time point is 200\n",
      "MAP:\n",
      "[0. 0. 0. 0. 0. 0. 0. 0. 0. 0. 0. 1. 0. 0. 0. 0. 0. 0. 0. 0. 0. 0. 0. 0.\n",
      " 0. 0. 0. 0. 0. 0. 0. 0. 0. 0. 0. 0. 0. 0. 0. 0. 0. 0. 0. 0. 0. 0. 0. 0.\n",
      " 0. 0. 0. 0. 0. 0. 0. 0. 0. 0. 0. 0. 0. 0. 0. 0.]\n"
     ]
    }
   ],
   "source": [
    "if __name__ == '__main__':\n",
    "    person_infor = {'person_1':{'loc':18, 'temp':5, 'corr': .8, 'time':[200, 250]},\n",
    "                'person_2':{'loc':46, 'temp':4, 'corr': .8, 'time':[200, 250]}}\n",
    "    data = simulate_data_stream(person_infor)\n",
    "    # first 3 rows are considered training data\n",
    "    train = [data.iloc[i,:].values.tolist() for i in range(3)]\n",
    "    detector = Detector()\n",
    "    detector.set_ref(train)\n",
    "    for i in range(3, data.shape[0]):\n",
    "        test = data.iloc[i,:].values.tolist()\n",
    "        detector.run_online(test)\n",
    "        idx = np.where(detector.map == 1)\n",
    "        if len(idx[0]) > 0:\n",
    "            print('The time point is {}'.format(i))\n",
    "            print('MAP:')\n",
    "            print(detector.map)\n",
    "            break"
   ]
  },
  {
   "cell_type": "code",
   "execution_count": null,
   "metadata": {},
   "outputs": [],
   "source": []
  }
 ],
 "metadata": {
  "kernelspec": {
   "display_name": "Python 3",
   "language": "python",
   "name": "python3"
  },
  "language_info": {
   "codemirror_mode": {
    "name": "ipython",
    "version": 3
   },
   "file_extension": ".py",
   "mimetype": "text/x-python",
   "name": "python",
   "nbconvert_exporter": "python",
   "pygments_lexer": "ipython3",
   "version": "3.6.5"
  }
 },
 "nbformat": 4,
 "nbformat_minor": 2
}
